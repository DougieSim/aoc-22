{
 "cells": [
  {
   "cell_type": "code",
   "execution_count": null,
   "metadata": {},
   "outputs": [],
   "source": [
    "from collections import defaultdict\n",
    "import sys\n",
    "\n",
    "\n",
    "global directory_dict \n",
    "directory_dict = defaultdict(list)\n",
    "size_dict = {}\n",
    "paths = []"
   ]
  },
  {
   "cell_type": "code",
   "execution_count": null,
   "metadata": {},
   "outputs": [],
   "source": [
    "with open('input.txt', 'r') as f:\n",
    "    file = f.read().splitlines()\n"
   ]
  },
  {
   "cell_type": "code",
   "execution_count": null,
   "metadata": {},
   "outputs": [],
   "source": [
    "path = []\n",
    "directories = []\n",
    "directories.append(\"/\")\n",
    "file_size_dir = {}\n",
    "for line in file: \n",
    "    if line[0] == \"$\":\n",
    "        if line[2:4] == \"cd\":\n",
    "            if line[5:7] == \"..\":\n",
    "                path.pop()\n",
    "            else:\n",
    "                directories.append(line.split()[2])\n",
    "                path.append(line[5:])\n",
    "\n",
    "\n",
    "    else: # dir or file\n",
    "        pass\n",
    "\n",
    "    if line[0:3] == 'dir':\n",
    "        directory_dict[\"\".join(path)].append(\"\".join(path + [line.split(\" \")[-1]]))\n",
    "        \n",
    "    if line[0].isdigit():\n",
    "        fsize, fname = line.split(\" \")\n",
    "\n",
    "        directory_dict[\"\".join(path)].append(\"\".join(path + [fname]))\n",
    "        file_size_dir.update({\"\".join(path + [fname]) : fsize})"
   ]
  },
  {
   "cell_type": "code",
   "execution_count": null,
   "metadata": {},
   "outputs": [],
   "source": [
    "def get_dir_size(directory):\n",
    "    values = directory_dict[directory]\n",
    "    \n",
    "    for v in values:\n",
    "        if v in file_size_dir.keys():\n",
    "            yield float(file_size_dir[v])\n",
    "        else:\n",
    "            yield from get_dir_size(v)"
   ]
  },
  {
   "cell_type": "code",
   "execution_count": null,
   "metadata": {},
   "outputs": [],
   "source": [
    "dir_sizes = {}\n",
    "for i in directory_dict.keys():\n",
    "\n",
    "    result = list(get_dir_size(i))\n",
    "    dir_size = (sum(result))\n",
    "    dir_sizes.update({i:dir_size})\n"
   ]
  },
  {
   "cell_type": "code",
   "execution_count": null,
   "metadata": {},
   "outputs": [],
   "source": [
    "filtered_size = {k:v for k,v in dir_sizes.items() if v < 100000}"
   ]
  },
  {
   "cell_type": "code",
   "execution_count": null,
   "metadata": {},
   "outputs": [],
   "source": [
    "# Get size of '/'\n",
    "required_space = 30000000\n",
    "outer_dir = dir_sizes['/']\n",
    "space_taken = 70000000 - outer_dir"
   ]
  },
  {
   "cell_type": "code",
   "execution_count": null,
   "metadata": {},
   "outputs": [],
   "source": [
    "dir_size_needed = required_space - space_taken"
   ]
  },
  {
   "cell_type": "code",
   "execution_count": null,
   "metadata": {},
   "outputs": [],
   "source": [
    "filtered_size = {k:v for k,v in dir_sizes.items() if v > dir_size_needed}"
   ]
  },
  {
   "cell_type": "code",
   "execution_count": null,
   "metadata": {},
   "outputs": [],
   "source": [
    "sorted(filtered_size.values())"
   ]
  }
 ],
 "metadata": {
  "kernelspec": {
   "display_name": "adv-of-code",
   "language": "python",
   "name": "python3"
  },
  "language_info": {
   "codemirror_mode": {
    "name": "ipython",
    "version": 3
   },
   "file_extension": ".py",
   "mimetype": "text/x-python",
   "name": "python",
   "nbconvert_exporter": "python",
   "pygments_lexer": "ipython3",
   "version": "3.11.0 | packaged by conda-forge | (main, Oct 25 2022, 06:12:32) [MSC v.1929 64 bit (AMD64)]"
  },
  "orig_nbformat": 4,
  "vscode": {
   "interpreter": {
    "hash": "13af6c83c22ff6684f389576624d67cc68d164e38c9df2e09ffcdcce1b45c467"
   }
  }
 },
 "nbformat": 4,
 "nbformat_minor": 2
}
