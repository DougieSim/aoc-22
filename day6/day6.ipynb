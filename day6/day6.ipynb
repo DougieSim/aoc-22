{
 "cells": [
  {
   "cell_type": "code",
   "execution_count": 10,
   "metadata": {},
   "outputs": [
    {
     "name": "stdout",
     "output_type": "stream",
     "text": [
      "1896\n"
     ]
    }
   ],
   "source": [
    "with open('input.txt', 'r') as f:\n",
    "    buffer = f.read()\n",
    "    for i, _ in enumerate(buffer):\n",
    "        string = buffer[i:i+4]\n",
    "        if len(set(string)) == 4:\n",
    "            print(i+4)\n",
    "            break\n"
   ]
  },
  {
   "cell_type": "code",
   "execution_count": 12,
   "metadata": {},
   "outputs": [
    {
     "name": "stdout",
     "output_type": "stream",
     "text": [
      "146\n"
     ]
    }
   ],
   "source": [
    "with open('input.txt', 'r') as f:\n",
    "    buffer = f.read()\n",
    "    for i, _ in enumerate(buffer):\n",
    "        string = buffer[i:i+14]\n",
    "        if len(set(string)) == 4:\n",
    "            print(i+14)\n",
    "            break\n"
   ]
  },
  {
   "cell_type": "code",
   "execution_count": null,
   "metadata": {},
   "outputs": [],
   "source": []
  }
 ],
 "metadata": {
  "kernelspec": {
   "display_name": "adv-of-code",
   "language": "python",
   "name": "python3"
  },
  "language_info": {
   "codemirror_mode": {
    "name": "ipython",
    "version": 3
   },
   "file_extension": ".py",
   "mimetype": "text/x-python",
   "name": "python",
   "nbconvert_exporter": "python",
   "pygments_lexer": "ipython3",
   "version": "3.11.0"
  },
  "orig_nbformat": 4,
  "vscode": {
   "interpreter": {
    "hash": "13af6c83c22ff6684f389576624d67cc68d164e38c9df2e09ffcdcce1b45c467"
   }
  }
 },
 "nbformat": 4,
 "nbformat_minor": 2
}
