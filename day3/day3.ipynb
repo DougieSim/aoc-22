{
 "cells": [
  {
   "cell_type": "code",
   "execution_count": 49,
   "metadata": {},
   "outputs": [],
   "source": [
    "import string\n",
    "from itertools import islice\n",
    "lower = list(string.ascii_lowercase)\n",
    "lower_values = range(1, 27)\n",
    "upper = list(string.ascii_uppercase)\n",
    "upper_values = range(27, 53)\n",
    "\n",
    "d = {}\n",
    "\n",
    "d = d | dict(zip(lower, lower_values)) | dict(zip(upper, upper_values))"
   ]
  },
  {
   "cell_type": "code",
   "execution_count": 50,
   "metadata": {},
   "outputs": [
    {
     "name": "stdout",
     "output_type": "stream",
     "text": [
      "8053\n"
     ]
    }
   ],
   "source": [
    "#Part 1\n",
    "value = 0\n",
    "with open('input.txt', 'r') as f: \n",
    "    for line in f:\n",
    "        line = line.rstrip()\n",
    "        line_length = len(line)\n",
    "        half_1 = line[:line_length//2]\n",
    "        half_2 = line[line_length//2:]\n",
    "\n",
    "        common = ''.join(set(half_2).intersection(half_1))\n",
    "        for s in common:\n",
    "            value += d[s]\n",
    "\n",
    "    print(value)"
   ]
  },
  {
   "cell_type": "code",
   "execution_count": 55,
   "metadata": {},
   "outputs": [
    {
     "name": "stdout",
     "output_type": "stream",
     "text": [
      "2425\n"
     ]
    }
   ],
   "source": [
    "#Part 2\n",
    "value = 0\n",
    "with open('input.txt', 'r') as f: \n",
    "    f = [line.strip() for line in f]\n",
    "    for i in range(0, len(f), 3):\n",
    "        head = f[i:i+3]\n",
    "        common = ''.join(set(head[0]).intersection(head[1]).intersection(head[2]))\n",
    "        for s in common:\n",
    "            value += d[s]\n",
    "\n",
    "    print(value)"
   ]
  },
  {
   "cell_type": "code",
   "execution_count": null,
   "metadata": {},
   "outputs": [],
   "source": []
  }
 ],
 "metadata": {
  "kernelspec": {
   "display_name": "Python 3.11.0 ('adv-of-code')",
   "language": "python",
   "name": "python3"
  },
  "language_info": {
   "codemirror_mode": {
    "name": "ipython",
    "version": 3
   },
   "file_extension": ".py",
   "mimetype": "text/x-python",
   "name": "python",
   "nbconvert_exporter": "python",
   "pygments_lexer": "ipython3",
   "version": "3.11.0"
  },
  "orig_nbformat": 4,
  "vscode": {
   "interpreter": {
    "hash": "13af6c83c22ff6684f389576624d67cc68d164e38c9df2e09ffcdcce1b45c467"
   }
  }
 },
 "nbformat": 4,
 "nbformat_minor": 2
}
