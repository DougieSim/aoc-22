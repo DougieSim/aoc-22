{
 "cells": [
  {
   "cell_type": "code",
   "execution_count": 13,
   "metadata": {},
   "outputs": [
    {
     "name": "stdout",
     "output_type": "stream",
     "text": [
      "71934.0\n"
     ]
    }
   ],
   "source": [
    "values = []\n",
    "line_value = 0\n",
    "with open('example_input.txt', 'r') as f: \n",
    "    for line in f:\n",
    "        if line != \"\\n\":\n",
    "            line_value += float(line)\n",
    "            \n",
    "            \n",
    "        else:\n",
    "            values.append(line_value)\n",
    "            line_value = 0\n",
    "\n",
    "print(max(values))"
   ]
  },
  {
   "cell_type": "code",
   "execution_count": 23,
   "metadata": {},
   "outputs": [
    {
     "data": {
      "text/plain": [
       "211447.0"
      ]
     },
     "execution_count": 23,
     "metadata": {},
     "output_type": "execute_result"
    }
   ],
   "source": [
    "sum((sorted(values, reverse=True))[:3])"
   ]
  },
  {
   "cell_type": "code",
   "execution_count": null,
   "metadata": {},
   "outputs": [],
   "source": []
  }
 ],
 "metadata": {
  "kernelspec": {
   "display_name": "Python 3.11.0 ('adv-of-code')",
   "language": "python",
   "name": "python3"
  },
  "language_info": {
   "codemirror_mode": {
    "name": "ipython",
    "version": 3
   },
   "file_extension": ".py",
   "mimetype": "text/x-python",
   "name": "python",
   "nbconvert_exporter": "python",
   "pygments_lexer": "ipython3",
   "version": "3.11.0"
  },
  "orig_nbformat": 4,
  "vscode": {
   "interpreter": {
    "hash": "13af6c83c22ff6684f389576624d67cc68d164e38c9df2e09ffcdcce1b45c467"
   }
  }
 },
 "nbformat": 4,
 "nbformat_minor": 2
}
