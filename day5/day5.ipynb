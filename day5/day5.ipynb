{
 "cells": [
  {
   "cell_type": "code",
   "execution_count": 340,
   "metadata": {},
   "outputs": [],
   "source": [
    "import numpy as np\n",
    "import itertools\n"
   ]
  },
  {
   "cell_type": "code",
   "execution_count": 341,
   "metadata": {},
   "outputs": [],
   "source": [
    "arr = []\n",
    "with open('arrangement.txt', 'r') as f:\n",
    "    for row in f:\n",
    "        row = row.replace(\"[\", \"\").replace(\"]\", \"\")\n",
    "        new_row = row.split(\"\\n\")\n",
    "    \n",
    "        new_row = new_row[0].split(\"    \")\n",
    "        new_row = ([x.split(\" \") for x in new_row])\n",
    "        new_row_flat = [item for sublist in new_row for item in sublist]\n",
    "        arr.append(new_row_flat)\n",
    "arr = arr[:len(arr)-1]\n",
    "arr = arr[::-1]\n",
    "t_row = (list(zip(*arr)))\n",
    "arrangement = ([list(filter(None, list(tup))) for tup in t_row])"
   ]
  },
  {
   "cell_type": "code",
   "execution_count": 342,
   "metadata": {},
   "outputs": [],
   "source": [
    "def extract_move_details(row):\n",
    "    row = row.split(\" \")\n",
    "    return int(row[1]), int(row[3])-1, int(row[5])-1"
   ]
  },
  {
   "cell_type": "code",
   "execution_count": 343,
   "metadata": {},
   "outputs": [],
   "source": [
    "def apply_move(arrangement, crates, frm, to, crane_version):\n",
    "    \n",
    "    elements  = arrangement[frm][-crates:]\n",
    "    if crane_version == 9000:\n",
    "        elements = elements[::-1]\n",
    "    arrangement[to].extend(elements)\n",
    "    del arrangement[frm][-len(elements):]\n",
    "\n",
    "    return arrangement "
   ]
  },
  {
   "cell_type": "code",
   "execution_count": 344,
   "metadata": {},
   "outputs": [],
   "source": [
    "with open('moves.txt','r') as f:\n",
    "    for row in f:\n",
    "        crates, frm, to = extract_move_details(row)\n",
    "        arrangement = apply_move(arrangement, crates, frm, to, 9001)"
   ]
  },
  {
   "cell_type": "code",
   "execution_count": 345,
   "metadata": {},
   "outputs": [
    {
     "name": "stdout",
     "output_type": "stream",
     "text": [
      "STHGRZZFR\n"
     ]
    }
   ],
   "source": [
    "str = []\n",
    "\n",
    "for l in arrangement:\n",
    "    str.extend(l[-1:])\n",
    "\n",
    "print(''.join(str))"
   ]
  },
  {
   "cell_type": "code",
   "execution_count": 346,
   "metadata": {},
   "outputs": [],
   "source": [
    "#Part 2 "
   ]
  }
 ],
 "metadata": {
  "kernelspec": {
   "display_name": "adv-of-code",
   "language": "python",
   "name": "python3"
  },
  "language_info": {
   "codemirror_mode": {
    "name": "ipython",
    "version": 3
   },
   "file_extension": ".py",
   "mimetype": "text/x-python",
   "name": "python",
   "nbconvert_exporter": "python",
   "pygments_lexer": "ipython3",
   "version": "3.11.0"
  },
  "orig_nbformat": 4,
  "vscode": {
   "interpreter": {
    "hash": "13af6c83c22ff6684f389576624d67cc68d164e38c9df2e09ffcdcce1b45c467"
   }
  }
 },
 "nbformat": 4,
 "nbformat_minor": 2
}
