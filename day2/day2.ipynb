{
 "cells": [
  {
   "cell_type": "code",
   "execution_count": 57,
   "metadata": {},
   "outputs": [],
   "source": [
    "play_dict = {\"Rock\" : \"Scissors\", \"Paper\" : \"Rock\", \"Scissors\": \"Paper\"}\n",
    "elf_dict = {\"A\" : \"Y\", \"B\": \"Z\" , \"C\" : \"X\"}\n",
    "value_dict = {\"Y\": 2, \"Z\" : 3, \"X\" : 1}\n",
    "value_dict2 = {\"A\" : 1, \"B\" : 2, \"C\" : 3}\n",
    "equality_dict = {\"X\" : \"A\", \"Y\" : \"B\", \"Z\" : \"C\"}\n",
    "result_dict = {\"X\" : 0, \"Y\": 1, \"Z\": 3}\n",
    "loss_dict = {\"A\": \"Z\", \"B\" :\"X\", \"C\" : \"Y\"}\n"
   ]
  },
  {
   "cell_type": "code",
   "execution_count": 58,
   "metadata": {},
   "outputs": [
    {
     "name": "stdout",
     "output_type": "stream",
     "text": [
      "14297\n"
     ]
    }
   ],
   "source": [
    "#Part 1 \n",
    "score = 0\n",
    "with open('input.txt', 'r') as f:\n",
    "    for line in f:\n",
    "        elf_play = line[0]\n",
    "        my_play = line[2]\n",
    "        \n",
    "        if elf_dict.get(elf_play) == my_play:\n",
    "            score += (6 + value_dict.get(my_play))\n",
    "\n",
    "        elif elf_play == equality_dict.get(my_play):\n",
    "            score += (3 + value_dict.get(my_play))\n",
    "\n",
    "        else:\n",
    "            score += value_dict.get(my_play)\n",
    "        \n",
    "print(score)"
   ]
  },
  {
   "cell_type": "code",
   "execution_count": 60,
   "metadata": {},
   "outputs": [
    {
     "name": "stdout",
     "output_type": "stream",
     "text": [
      "10498\n"
     ]
    }
   ],
   "source": [
    "#Part 2 \n",
    "score = 0\n",
    "with open('input.txt', 'r') as f:\n",
    "    for line in f:\n",
    "        elf_play = line[0]\n",
    "        desired_result = line[2]\n",
    "        \n",
    "        if result_dict.get(desired_result) == 3:\n",
    "            my_play = elf_dict.get(elf_play)\n",
    "            score += (6 + value_dict.get(my_play))\n",
    "\n",
    "        elif result_dict.get(desired_result) == 1:\n",
    "            #my_play = equality_dict.get(elf_play)\n",
    "            score += (3 + value_dict2.get(elf_play))\n",
    "\n",
    "        else:\n",
    "            score += value_dict.get(loss_dict.get(elf_play))\n",
    "        \n",
    "print(score)"
   ]
  },
  {
   "cell_type": "code",
   "execution_count": null,
   "metadata": {},
   "outputs": [],
   "source": []
  }
 ],
 "metadata": {
  "kernelspec": {
   "display_name": "Python 3.11.0 ('adv-of-code')",
   "language": "python",
   "name": "python3"
  },
  "language_info": {
   "codemirror_mode": {
    "name": "ipython",
    "version": 3
   },
   "file_extension": ".py",
   "mimetype": "text/x-python",
   "name": "python",
   "nbconvert_exporter": "python",
   "pygments_lexer": "ipython3",
   "version": "3.11.0"
  },
  "orig_nbformat": 4,
  "vscode": {
   "interpreter": {
    "hash": "13af6c83c22ff6684f389576624d67cc68d164e38c9df2e09ffcdcce1b45c467"
   }
  }
 },
 "nbformat": 4,
 "nbformat_minor": 2
}
