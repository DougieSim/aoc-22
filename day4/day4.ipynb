{
 "cells": [
  {
   "cell_type": "code",
   "execution_count": 32,
   "metadata": {},
   "outputs": [],
   "source": [
    "#Part 1\n",
    "count = 0 \n",
    "with open('input.txt', 'r') as f:\n",
    "    for line in f:\n",
    "        p_1, p_2 = line.rstrip().split(\",\")\n",
    "        \n",
    "        p_1_llimit, p_1_ulimit = list(map(int, p_1.split(\"-\")))\n",
    "        p_2_llimit, p_2_ulimit = list(map(int, p_2.split(\"-\")))\n",
    "\n",
    "        if p_1_llimit >= p_2_llimit and p_1_ulimit <= p_2_ulimit:\n",
    "            count += 1\n",
    "        elif p_2_llimit >= p_1_llimit and p_1_ulimit >= p_2_ulimit:\n",
    "            count += 1 "
   ]
  },
  {
   "cell_type": "code",
   "execution_count": 40,
   "metadata": {},
   "outputs": [
    {
     "data": {
      "text/plain": [
       "865"
      ]
     },
     "execution_count": 40,
     "metadata": {},
     "output_type": "execute_result"
    }
   ],
   "source": [
    "#Part 2\n",
    "count = 0 \n",
    "with open('input.txt', 'r') as f:\n",
    "    for line in f:\n",
    "        p_1, p_2 = line.rstrip().split(\",\")\n",
    "        \n",
    "        p_1_llimit, p_1_ulimit = list(map(int, p_1.split(\"-\")))\n",
    "        p_2_llimit, p_2_ulimit = list(map(int, p_2.split(\"-\")))\n",
    "\n",
    "        if p_1_llimit <= p_2_ulimit and p_2_llimit <= p_1_ulimit:\n",
    "            count += 1\n",
    "\n",
    "count"
   ]
  },
  {
   "cell_type": "code",
   "execution_count": null,
   "metadata": {},
   "outputs": [],
   "source": []
  }
 ],
 "metadata": {
  "kernelspec": {
   "display_name": "adv-of-code",
   "language": "python",
   "name": "python3"
  },
  "language_info": {
   "codemirror_mode": {
    "name": "ipython",
    "version": 3
   },
   "file_extension": ".py",
   "mimetype": "text/x-python",
   "name": "python",
   "nbconvert_exporter": "python",
   "pygments_lexer": "ipython3",
   "version": "3.11.0"
  },
  "orig_nbformat": 4,
  "vscode": {
   "interpreter": {
    "hash": "13af6c83c22ff6684f389576624d67cc68d164e38c9df2e09ffcdcce1b45c467"
   }
  }
 },
 "nbformat": 4,
 "nbformat_minor": 2
}
